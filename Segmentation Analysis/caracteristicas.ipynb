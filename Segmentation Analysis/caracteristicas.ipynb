{
 "cells": [
  {
   "cell_type": "code",
   "execution_count": 1,
   "metadata": {},
   "outputs": [
    {
     "name": "stderr",
     "output_type": "stream",
     "text": [
      "/tmp/ipykernel_36142/2318182290.py:5: DeprecationWarning: \n",
      "Pyarrow will become a required dependency of pandas in the next major release of pandas (pandas 3.0),\n",
      "(to allow more performant data types, such as the Arrow string type, and better interoperability with other libraries)\n",
      "but was not found to be installed on your system.\n",
      "If this would cause problems for you,\n",
      "please provide us feedback at https://github.com/pandas-dev/pandas/issues/54466\n",
      "        \n",
      "  import pandas as pd\n"
     ]
    }
   ],
   "source": [
    "import os\n",
    "import warnings\n",
    "import radiomics \n",
    "import numpy as np\n",
    "import pandas as pd\n",
    "import nibabel as nib\n",
    "import SimpleITK as sitk\n",
    "import matplotlib.pyplot as plt\n",
    "from nilearn import plotting, image\n",
    "from matplotlib.colors import ListedColormap"
   ]
  },
  {
   "cell_type": "markdown",
   "metadata": {},
   "source": [
    "### Path directories"
   ]
  },
  {
   "cell_type": "code",
   "execution_count": 2,
   "metadata": {},
   "outputs": [],
   "source": [
    "# Main path where all requiered files are encountered.\n",
    "mainPath = os.path.join('/home/danvalcor/Documents/ANDI/Sample010')\n",
    "\n",
    "# Specific path for the volumes.\n",
    "asegPath = f'{mainPath}/mri/aparc+aseg.mgz'\n",
    "brainPath = f'{mainPath}/mri/brain.mgz'\n",
    "\n",
    "# We are also including the stats file to save the known stats.\n",
    "asegStats = f\"{mainPath}/stats/aseg.stats\"\n",
    "\n",
    "# Path to load the LUT table\n",
    "LUTfile = os.path.join(os.environ['FREESURFER_HOME'],'luts/FreeSurferColorLUT.txt')\n",
    "\n",
    "# Load the MRI libraries using the nibabel library\n",
    "brain = nib.load(brainPath)   # Volume containing the MRI of the brain.\n",
    "aseg = nib.load(asegPath)     # Volume containing the segmentations of the brains MRI"
   ]
  },
  {
   "cell_type": "markdown",
   "metadata": {},
   "source": [
    "### LUT load"
   ]
  },
  {
   "cell_type": "code",
   "execution_count": 3,
   "metadata": {},
   "outputs": [],
   "source": [
    "# Create a data Frame to contain all relevant information of the LUT\n",
    "df = pd.DataFrame(columns=[\"Id\", \"Segmentation\",\"Color Array\"])\n",
    "\n",
    "# Declares the path where the LUT file is stored inside FreeSurfers Directory. \n",
    "lut_data = []\n",
    "\n",
    "# Opens and reads the file\n",
    "with open(LUTfile, \"r\") as file:\n",
    "    content = file.readlines()\n",
    "\n",
    "# Reads each line of the file\n",
    "for line in content:\n",
    "    # Skip empty lines\n",
    "    if len(line) > 1:\n",
    "        # Strip, split and join each line by the tab ('\\t') separator, to assign each value easier\n",
    "        sLine = line.strip().split(\"\\t\")\n",
    "        sLine = \" \".join(sLine).split()\n",
    "        # Checks and skipps anotations in the file\n",
    "        if '#' not in sLine[0]:\n",
    "            # Separates and assigns the contained values to the dictionary\n",
    "            labelId = int(sLine[0])                     # Converts the numbers back into integers.\n",
    "            labelName = sLine[1]                        # Assigns the structure labels.\n",
    "            rgbColors = [int(p) for p in sLine[-4:-1]]  # Converts each rgb value back into integers.\n",
    "            lut_data.append({\"Id\": labelId, \"StructName\": labelName, \"Color Array\": rgbColors})\n",
    "\n",
    "# Create DataFrame from the list of dictionaries\n",
    "df = pd.DataFrame(lut_data)# Prints the dictionary to verify\n"
   ]
  },
  {
   "cell_type": "markdown",
   "metadata": {},
   "source": [
    "### Color Map"
   ]
  },
  {
   "cell_type": "code",
   "execution_count": 4,
   "metadata": {},
   "outputs": [],
   "source": [
    "# Create a dictionary mapping the ID to its corresponding RGB color\n",
    "id_to_color = dict(zip(df['Id'], df['Color Array']))\n",
    "\n",
    "# Generate an array of RGB colors for each ID\n",
    "colors_rgb = [id_to_color[id_] for id_ in df['Id']]\n",
    "\n",
    "# Create the colormap with the RGB colors\n",
    "cmap = ListedColormap(colors_rgb)"
   ]
  },
  {
   "cell_type": "markdown",
   "metadata": {},
   "source": [
    "### Segment filtering"
   ]
  },
  {
   "cell_type": "code",
   "execution_count": 5,
   "metadata": {},
   "outputs": [
    {
     "name": "stdout",
     "output_type": "stream",
     "text": [
      "Present Segments:  111\n",
      "       Id                    StructName      Color Array   NVoxels\n",
      "0       0                       Unknown        [0, 0, 0]  15611097\n",
      "1       2    Left-Cerebral-White-Matter  [245, 245, 245]    237966\n",
      "2       4        Left-Lateral-Ventricle   [120, 18, 134]     22632\n",
      "3       5             Left-Inf-Lat-Vent   [196, 58, 250]      1001\n",
      "4       7  Left-Cerebellum-White-Matter  [220, 248, 164]     14400\n",
      "..    ...                           ...              ...       ...\n",
      "106  2031          ctx-rh-supramarginal    [80, 160, 20]      8190\n",
      "107  2032            ctx-rh-frontalpole    [100, 0, 100]       921\n",
      "108  2033           ctx-rh-temporalpole     [70, 70, 70]      2314\n",
      "109  2034     ctx-rh-transversetemporal  [150, 150, 200]       665\n",
      "110  2035                 ctx-rh-insula   [255, 192, 32]      6983\n",
      "\n",
      "[111 rows x 4 columns]\n"
     ]
    }
   ],
   "source": [
    "# We obtain and save the data present in our segmentation volume.\n",
    "img_data = aseg.get_fdata()\n",
    "\n",
    "# Creates a temporary array to store the number of voxels present in every segmet.\n",
    "calculated = []\n",
    "\n",
    "# iterates each row present in the Data Frame\n",
    "for i, row in df.iterrows():\n",
    "    # Assigns the id, structure Name, and corresponding color\n",
    "    colorId, name, color = row[['Id','StructName','Color Array']]\n",
    "    # Create a boolean mask for values in img_data matching the Id value\n",
    "    mask = (img_data == colorId)\n",
    "    # Calculate the number of voxels\n",
    "    num_voxels = np.count_nonzero(mask)\n",
    "    calculated.append(num_voxels)\n",
    "\n",
    "# Add the calculated list as a new column named \"calculated\" to the DataFrame\n",
    "df['NVoxels'] = calculated\n",
    "# Remove rows where 'NVoxels' is 0, and resets the index of the dataFrame\n",
    "df = df[df['NVoxels'] != 0].reset_index(drop=True)\n",
    "\n",
    "# Show the resulting DataFrame\n",
    "print(\"Present Segments: \",len(df))\n",
    "print(df)"
   ]
  },
  {
   "cell_type": "markdown",
   "metadata": {},
   "source": [
    "### PyRadiomics Characteristics"
   ]
  },
  {
   "cell_type": "code",
   "execution_count": 12,
   "metadata": {},
   "outputs": [],
   "source": [
    "# Create a SimpleITK image from a numpy array of aseg data with int32 data type\n",
    "brain_sitk = sitk.GetImageFromArray(np.array(aseg.dataobj, dtype=np.int32))\n",
    "\n",
    "# Crear una instancia del extractor de características\n",
    "extractor = radiomics.featureextractor.RadiomicsFeatureExtractor()\n",
    "\n",
    "# Configurar las opciones del extractor\n",
    "extractor.settings['shape'] = True  # Habilitar características de forma\n",
    "extractor.settings['firstorder'] = True  # Habilitar características de primer orden\n",
    "extractor.settings['glcm'] = False  # Deshabilitar características de matriz de co-ocurrencia de niveles de gris\n",
    "extractor.settings['glrlm'] = False  # Deshabilitar características de matriz de longitud de corrida de niveles de gris\n",
    "extractor.settings['glszm'] = False  # Deshabilitar características de matriz de tamaño de zona de niveles de gris\n",
    "extractor.settings['ngtdm'] = False  # Deshabilitar características de matriz de diferencia de textura de nivel de gris\n",
    "# Puedes configurar otras opciones según tus necesidades"
   ]
  },
  {
   "cell_type": "markdown",
   "metadata": {},
   "source": [
    "#### Specific Characteristics"
   ]
  },
  {
   "cell_type": "code",
   "execution_count": 13,
   "metadata": {},
   "outputs": [
    {
     "name": "stdout",
     "output_type": "stream",
     "text": [
      "Progress: 1%\n"
     ]
    },
    {
     "name": "stderr",
     "output_type": "stream",
     "text": [
      "GLCM is symmetrical, therefore Sum Average = 2 * Joint Average, only 1 needs to be calculated\n",
      "GLCM is symmetrical, therefore Sum Average = 2 * Joint Average, only 1 needs to be calculated\n",
      "GLCM is symmetrical, therefore Sum Average = 2 * Joint Average, only 1 needs to be calculated\n",
      "GLCM is symmetrical, therefore Sum Average = 2 * Joint Average, only 1 needs to be calculated\n",
      "GLCM is symmetrical, therefore Sum Average = 2 * Joint Average, only 1 needs to be calculated\n"
     ]
    },
    {
     "name": "stdout",
     "output_type": "stream",
     "text": [
      "Progress: 5%\n"
     ]
    },
    {
     "name": "stderr",
     "output_type": "stream",
     "text": [
      "GLCM is symmetrical, therefore Sum Average = 2 * Joint Average, only 1 needs to be calculated\n",
      "GLCM is symmetrical, therefore Sum Average = 2 * Joint Average, only 1 needs to be calculated\n",
      "GLCM is symmetrical, therefore Sum Average = 2 * Joint Average, only 1 needs to be calculated\n",
      "GLCM is symmetrical, therefore Sum Average = 2 * Joint Average, only 1 needs to be calculated\n",
      "GLCM is symmetrical, therefore Sum Average = 2 * Joint Average, only 1 needs to be calculated\n",
      "GLCM is symmetrical, therefore Sum Average = 2 * Joint Average, only 1 needs to be calculated\n"
     ]
    },
    {
     "name": "stdout",
     "output_type": "stream",
     "text": [
      "Progress: 11%\n"
     ]
    },
    {
     "name": "stderr",
     "output_type": "stream",
     "text": [
      "GLCM is symmetrical, therefore Sum Average = 2 * Joint Average, only 1 needs to be calculated\n",
      "GLCM is symmetrical, therefore Sum Average = 2 * Joint Average, only 1 needs to be calculated\n",
      "GLCM is symmetrical, therefore Sum Average = 2 * Joint Average, only 1 needs to be calculated\n",
      "GLCM is symmetrical, therefore Sum Average = 2 * Joint Average, only 1 needs to be calculated\n",
      "GLCM is symmetrical, therefore Sum Average = 2 * Joint Average, only 1 needs to be calculated\n"
     ]
    },
    {
     "name": "stdout",
     "output_type": "stream",
     "text": [
      "Progress: 15%\n"
     ]
    },
    {
     "name": "stderr",
     "output_type": "stream",
     "text": [
      "GLCM is symmetrical, therefore Sum Average = 2 * Joint Average, only 1 needs to be calculated\n",
      "GLCM is symmetrical, therefore Sum Average = 2 * Joint Average, only 1 needs to be calculated\n",
      "GLCM is symmetrical, therefore Sum Average = 2 * Joint Average, only 1 needs to be calculated\n",
      "GLCM is symmetrical, therefore Sum Average = 2 * Joint Average, only 1 needs to be calculated\n",
      "GLCM is symmetrical, therefore Sum Average = 2 * Joint Average, only 1 needs to be calculated\n",
      "GLCM is symmetrical, therefore Sum Average = 2 * Joint Average, only 1 needs to be calculated\n"
     ]
    },
    {
     "name": "stdout",
     "output_type": "stream",
     "text": [
      "Progress: 21%\n"
     ]
    },
    {
     "name": "stderr",
     "output_type": "stream",
     "text": [
      "GLCM is symmetrical, therefore Sum Average = 2 * Joint Average, only 1 needs to be calculated\n",
      "GLCM is symmetrical, therefore Sum Average = 2 * Joint Average, only 1 needs to be calculated\n",
      "GLCM is symmetrical, therefore Sum Average = 2 * Joint Average, only 1 needs to be calculated\n",
      "GLCM is symmetrical, therefore Sum Average = 2 * Joint Average, only 1 needs to be calculated\n",
      "GLCM is symmetrical, therefore Sum Average = 2 * Joint Average, only 1 needs to be calculated\n"
     ]
    },
    {
     "name": "stdout",
     "output_type": "stream",
     "text": [
      "Progress: 25%\n"
     ]
    },
    {
     "name": "stderr",
     "output_type": "stream",
     "text": [
      "GLCM is symmetrical, therefore Sum Average = 2 * Joint Average, only 1 needs to be calculated\n",
      "GLCM is symmetrical, therefore Sum Average = 2 * Joint Average, only 1 needs to be calculated\n",
      "GLCM is symmetrical, therefore Sum Average = 2 * Joint Average, only 1 needs to be calculated\n",
      "GLCM is symmetrical, therefore Sum Average = 2 * Joint Average, only 1 needs to be calculated\n",
      "GLCM is symmetrical, therefore Sum Average = 2 * Joint Average, only 1 needs to be calculated\n",
      "GLCM is symmetrical, therefore Sum Average = 2 * Joint Average, only 1 needs to be calculated\n"
     ]
    },
    {
     "name": "stdout",
     "output_type": "stream",
     "text": [
      "Progress: 31%\n"
     ]
    },
    {
     "name": "stderr",
     "output_type": "stream",
     "text": [
      "GLCM is symmetrical, therefore Sum Average = 2 * Joint Average, only 1 needs to be calculated\n",
      "GLCM is symmetrical, therefore Sum Average = 2 * Joint Average, only 1 needs to be calculated\n",
      "GLCM is symmetrical, therefore Sum Average = 2 * Joint Average, only 1 needs to be calculated\n",
      "GLCM is symmetrical, therefore Sum Average = 2 * Joint Average, only 1 needs to be calculated\n"
     ]
    },
    {
     "name": "stdout",
     "output_type": "stream",
     "text": [
      "Progress: 35%\n"
     ]
    },
    {
     "name": "stderr",
     "output_type": "stream",
     "text": [
      "GLCM is symmetrical, therefore Sum Average = 2 * Joint Average, only 1 needs to be calculated\n",
      "GLCM is symmetrical, therefore Sum Average = 2 * Joint Average, only 1 needs to be calculated\n",
      "GLCM is symmetrical, therefore Sum Average = 2 * Joint Average, only 1 needs to be calculated\n",
      "GLCM is symmetrical, therefore Sum Average = 2 * Joint Average, only 1 needs to be calculated\n",
      "GLCM is symmetrical, therefore Sum Average = 2 * Joint Average, only 1 needs to be calculated\n",
      "GLCM is symmetrical, therefore Sum Average = 2 * Joint Average, only 1 needs to be calculated\n"
     ]
    },
    {
     "name": "stdout",
     "output_type": "stream",
     "text": [
      "Progress: 41%\n"
     ]
    },
    {
     "name": "stderr",
     "output_type": "stream",
     "text": [
      "GLCM is symmetrical, therefore Sum Average = 2 * Joint Average, only 1 needs to be calculated\n",
      "GLCM is symmetrical, therefore Sum Average = 2 * Joint Average, only 1 needs to be calculated\n",
      "GLCM is symmetrical, therefore Sum Average = 2 * Joint Average, only 1 needs to be calculated\n",
      "GLCM is symmetrical, therefore Sum Average = 2 * Joint Average, only 1 needs to be calculated\n",
      "GLCM is symmetrical, therefore Sum Average = 2 * Joint Average, only 1 needs to be calculated\n"
     ]
    },
    {
     "name": "stdout",
     "output_type": "stream",
     "text": [
      "Progress: 45%\n"
     ]
    },
    {
     "name": "stderr",
     "output_type": "stream",
     "text": [
      "GLCM is symmetrical, therefore Sum Average = 2 * Joint Average, only 1 needs to be calculated\n"
     ]
    },
    {
     "name": "stdout",
     "output_type": "stream",
     "text": [
      "Progress: 46%\n"
     ]
    },
    {
     "name": "stderr",
     "output_type": "stream",
     "text": [
      "GLCM is symmetrical, therefore Sum Average = 2 * Joint Average, only 1 needs to be calculated\n",
      "GLCM is symmetrical, therefore Sum Average = 2 * Joint Average, only 1 needs to be calculated\n",
      "GLCM is symmetrical, therefore Sum Average = 2 * Joint Average, only 1 needs to be calculated\n",
      "GLCM is symmetrical, therefore Sum Average = 2 * Joint Average, only 1 needs to be calculated\n",
      "GLCM is symmetrical, therefore Sum Average = 2 * Joint Average, only 1 needs to be calculated\n"
     ]
    },
    {
     "name": "stdout",
     "output_type": "stream",
     "text": [
      "Progress: 50%\n"
     ]
    },
    {
     "name": "stderr",
     "output_type": "stream",
     "text": [
      "GLCM is symmetrical, therefore Sum Average = 2 * Joint Average, only 1 needs to be calculated\n",
      "GLCM is symmetrical, therefore Sum Average = 2 * Joint Average, only 1 needs to be calculated\n",
      "GLCM is symmetrical, therefore Sum Average = 2 * Joint Average, only 1 needs to be calculated\n",
      "GLCM is symmetrical, therefore Sum Average = 2 * Joint Average, only 1 needs to be calculated\n",
      "GLCM is symmetrical, therefore Sum Average = 2 * Joint Average, only 1 needs to be calculated\n",
      "GLCM is symmetrical, therefore Sum Average = 2 * Joint Average, only 1 needs to be calculated\n"
     ]
    },
    {
     "name": "stdout",
     "output_type": "stream",
     "text": [
      "Progress: 56%\n"
     ]
    },
    {
     "name": "stderr",
     "output_type": "stream",
     "text": [
      "GLCM is symmetrical, therefore Sum Average = 2 * Joint Average, only 1 needs to be calculated\n",
      "GLCM is symmetrical, therefore Sum Average = 2 * Joint Average, only 1 needs to be calculated\n",
      "GLCM is symmetrical, therefore Sum Average = 2 * Joint Average, only 1 needs to be calculated\n",
      "GLCM is symmetrical, therefore Sum Average = 2 * Joint Average, only 1 needs to be calculated\n",
      "GLCM is symmetrical, therefore Sum Average = 2 * Joint Average, only 1 needs to be calculated\n"
     ]
    },
    {
     "name": "stdout",
     "output_type": "stream",
     "text": [
      "Progress: 60%\n"
     ]
    },
    {
     "name": "stderr",
     "output_type": "stream",
     "text": [
      "GLCM is symmetrical, therefore Sum Average = 2 * Joint Average, only 1 needs to be calculated\n",
      "GLCM is symmetrical, therefore Sum Average = 2 * Joint Average, only 1 needs to be calculated\n",
      "GLCM is symmetrical, therefore Sum Average = 2 * Joint Average, only 1 needs to be calculated\n",
      "GLCM is symmetrical, therefore Sum Average = 2 * Joint Average, only 1 needs to be calculated\n",
      "GLCM is symmetrical, therefore Sum Average = 2 * Joint Average, only 1 needs to be calculated\n",
      "GLCM is symmetrical, therefore Sum Average = 2 * Joint Average, only 1 needs to be calculated\n"
     ]
    },
    {
     "name": "stdout",
     "output_type": "stream",
     "text": [
      "Progress: 66%\n"
     ]
    },
    {
     "name": "stderr",
     "output_type": "stream",
     "text": [
      "GLCM is symmetrical, therefore Sum Average = 2 * Joint Average, only 1 needs to be calculated\n",
      "GLCM is symmetrical, therefore Sum Average = 2 * Joint Average, only 1 needs to be calculated\n",
      "GLCM is symmetrical, therefore Sum Average = 2 * Joint Average, only 1 needs to be calculated\n",
      "GLCM is symmetrical, therefore Sum Average = 2 * Joint Average, only 1 needs to be calculated\n",
      "GLCM is symmetrical, therefore Sum Average = 2 * Joint Average, only 1 needs to be calculated\n"
     ]
    },
    {
     "name": "stdout",
     "output_type": "stream",
     "text": [
      "Progress: 70%\n"
     ]
    },
    {
     "name": "stderr",
     "output_type": "stream",
     "text": [
      "GLCM is symmetrical, therefore Sum Average = 2 * Joint Average, only 1 needs to be calculated\n",
      "GLCM is symmetrical, therefore Sum Average = 2 * Joint Average, only 1 needs to be calculated\n",
      "GLCM is symmetrical, therefore Sum Average = 2 * Joint Average, only 1 needs to be calculated\n",
      "GLCM is symmetrical, therefore Sum Average = 2 * Joint Average, only 1 needs to be calculated\n",
      "GLCM is symmetrical, therefore Sum Average = 2 * Joint Average, only 1 needs to be calculated\n",
      "GLCM is symmetrical, therefore Sum Average = 2 * Joint Average, only 1 needs to be calculated\n"
     ]
    },
    {
     "name": "stdout",
     "output_type": "stream",
     "text": [
      "Progress: 76%\n"
     ]
    },
    {
     "name": "stderr",
     "output_type": "stream",
     "text": [
      "GLCM is symmetrical, therefore Sum Average = 2 * Joint Average, only 1 needs to be calculated\n",
      "GLCM is symmetrical, therefore Sum Average = 2 * Joint Average, only 1 needs to be calculated\n",
      "GLCM is symmetrical, therefore Sum Average = 2 * Joint Average, only 1 needs to be calculated\n",
      "GLCM is symmetrical, therefore Sum Average = 2 * Joint Average, only 1 needs to be calculated\n",
      "GLCM is symmetrical, therefore Sum Average = 2 * Joint Average, only 1 needs to be calculated\n"
     ]
    },
    {
     "name": "stdout",
     "output_type": "stream",
     "text": [
      "Progress: 80%\n"
     ]
    },
    {
     "name": "stderr",
     "output_type": "stream",
     "text": [
      "GLCM is symmetrical, therefore Sum Average = 2 * Joint Average, only 1 needs to be calculated\n",
      "GLCM is symmetrical, therefore Sum Average = 2 * Joint Average, only 1 needs to be calculated\n",
      "GLCM is symmetrical, therefore Sum Average = 2 * Joint Average, only 1 needs to be calculated\n",
      "GLCM is symmetrical, therefore Sum Average = 2 * Joint Average, only 1 needs to be calculated\n",
      "GLCM is symmetrical, therefore Sum Average = 2 * Joint Average, only 1 needs to be calculated\n",
      "GLCM is symmetrical, therefore Sum Average = 2 * Joint Average, only 1 needs to be calculated\n"
     ]
    },
    {
     "name": "stdout",
     "output_type": "stream",
     "text": [
      "Progress: 86%\n"
     ]
    },
    {
     "name": "stderr",
     "output_type": "stream",
     "text": [
      "GLCM is symmetrical, therefore Sum Average = 2 * Joint Average, only 1 needs to be calculated\n",
      "GLCM is symmetrical, therefore Sum Average = 2 * Joint Average, only 1 needs to be calculated\n",
      "GLCM is symmetrical, therefore Sum Average = 2 * Joint Average, only 1 needs to be calculated\n",
      "GLCM is symmetrical, therefore Sum Average = 2 * Joint Average, only 1 needs to be calculated\n",
      "GLCM is symmetrical, therefore Sum Average = 2 * Joint Average, only 1 needs to be calculated\n"
     ]
    },
    {
     "name": "stdout",
     "output_type": "stream",
     "text": [
      "Progress: 90%\n"
     ]
    },
    {
     "name": "stderr",
     "output_type": "stream",
     "text": [
      "GLCM is symmetrical, therefore Sum Average = 2 * Joint Average, only 1 needs to be calculated\n"
     ]
    },
    {
     "name": "stdout",
     "output_type": "stream",
     "text": [
      "Progress: 91%\n"
     ]
    },
    {
     "name": "stderr",
     "output_type": "stream",
     "text": [
      "GLCM is symmetrical, therefore Sum Average = 2 * Joint Average, only 1 needs to be calculated\n",
      "GLCM is symmetrical, therefore Sum Average = 2 * Joint Average, only 1 needs to be calculated\n",
      "GLCM is symmetrical, therefore Sum Average = 2 * Joint Average, only 1 needs to be calculated\n",
      "GLCM is symmetrical, therefore Sum Average = 2 * Joint Average, only 1 needs to be calculated\n",
      "GLCM is symmetrical, therefore Sum Average = 2 * Joint Average, only 1 needs to be calculated\n"
     ]
    },
    {
     "name": "stdout",
     "output_type": "stream",
     "text": [
      "Progress: 95%\n"
     ]
    },
    {
     "name": "stderr",
     "output_type": "stream",
     "text": [
      "GLCM is symmetrical, therefore Sum Average = 2 * Joint Average, only 1 needs to be calculated\n",
      "GLCM is symmetrical, therefore Sum Average = 2 * Joint Average, only 1 needs to be calculated\n",
      "GLCM is symmetrical, therefore Sum Average = 2 * Joint Average, only 1 needs to be calculated\n",
      "GLCM is symmetrical, therefore Sum Average = 2 * Joint Average, only 1 needs to be calculated\n",
      "GLCM is symmetrical, therefore Sum Average = 2 * Joint Average, only 1 needs to be calculated\n"
     ]
    },
    {
     "name": "stdout",
     "output_type": "stream",
     "text": [
      "     ColorId                    StructName diagnostics_Versions_PyRadiomics  \\\n",
      "0          2    Left-Cerebral-White-Matter                           v3.0.1   \n",
      "1          4        Left-Lateral-Ventricle                           v3.0.1   \n",
      "2          5             Left-Inf-Lat-Vent                           v3.0.1   \n",
      "3          7  Left-Cerebellum-White-Matter                           v3.0.1   \n",
      "4          8        Left-Cerebellum-Cortex                           v3.0.1   \n",
      "..       ...                           ...                              ...   \n",
      "104     2031          ctx-rh-supramarginal                           v3.0.1   \n",
      "105     2032            ctx-rh-frontalpole                           v3.0.1   \n",
      "106     2033           ctx-rh-temporalpole                           v3.0.1   \n",
      "107     2034     ctx-rh-transversetemporal                           v3.0.1   \n",
      "108     2035                 ctx-rh-insula                           v3.0.1   \n",
      "\n",
      "    diagnostics_Versions_Numpy diagnostics_Versions_SimpleITK  \\\n",
      "0                       1.26.4                          2.3.1   \n",
      "1                       1.26.4                          2.3.1   \n",
      "2                       1.26.4                          2.3.1   \n",
      "3                       1.26.4                          2.3.1   \n",
      "4                       1.26.4                          2.3.1   \n",
      "..                         ...                            ...   \n",
      "104                     1.26.4                          2.3.1   \n",
      "105                     1.26.4                          2.3.1   \n",
      "106                     1.26.4                          2.3.1   \n",
      "107                     1.26.4                          2.3.1   \n",
      "108                     1.26.4                          2.3.1   \n",
      "\n",
      "    diagnostics_Versions_PyWavelet diagnostics_Versions_Python  \\\n",
      "0                            1.5.0                     3.10.12   \n",
      "1                            1.5.0                     3.10.12   \n",
      "2                            1.5.0                     3.10.12   \n",
      "3                            1.5.0                     3.10.12   \n",
      "4                            1.5.0                     3.10.12   \n",
      "..                             ...                         ...   \n",
      "104                          1.5.0                     3.10.12   \n",
      "105                          1.5.0                     3.10.12   \n",
      "106                          1.5.0                     3.10.12   \n",
      "107                          1.5.0                     3.10.12   \n",
      "108                          1.5.0                     3.10.12   \n",
      "\n",
      "                    diagnostics_Configuration_Settings  \\\n",
      "0    {'minimumROIDimensions': 2, 'minimumROISize': ...   \n",
      "1    {'minimumROIDimensions': 2, 'minimumROISize': ...   \n",
      "2    {'minimumROIDimensions': 2, 'minimumROISize': ...   \n",
      "3    {'minimumROIDimensions': 2, 'minimumROISize': ...   \n",
      "4    {'minimumROIDimensions': 2, 'minimumROISize': ...   \n",
      "..                                                 ...   \n",
      "104  {'minimumROIDimensions': 2, 'minimumROISize': ...   \n",
      "105  {'minimumROIDimensions': 2, 'minimumROISize': ...   \n",
      "106  {'minimumROIDimensions': 2, 'minimumROISize': ...   \n",
      "107  {'minimumROIDimensions': 2, 'minimumROISize': ...   \n",
      "108  {'minimumROIDimensions': 2, 'minimumROISize': ...   \n",
      "\n",
      "    diagnostics_Configuration_EnabledImageTypes  \\\n",
      "0                              {'Original': {}}   \n",
      "1                              {'Original': {}}   \n",
      "2                              {'Original': {}}   \n",
      "3                              {'Original': {}}   \n",
      "4                              {'Original': {}}   \n",
      "..                                          ...   \n",
      "104                            {'Original': {}}   \n",
      "105                            {'Original': {}}   \n",
      "106                            {'Original': {}}   \n",
      "107                            {'Original': {}}   \n",
      "108                            {'Original': {}}   \n",
      "\n",
      "              diagnostics_Image-original_Hash  ...  \\\n",
      "0    e3cb939b078343fc9094f17f0e0f55d88a73dfa3  ...   \n",
      "1    e3cb939b078343fc9094f17f0e0f55d88a73dfa3  ...   \n",
      "2    e3cb939b078343fc9094f17f0e0f55d88a73dfa3  ...   \n",
      "3    e3cb939b078343fc9094f17f0e0f55d88a73dfa3  ...   \n",
      "4    e3cb939b078343fc9094f17f0e0f55d88a73dfa3  ...   \n",
      "..                                        ...  ...   \n",
      "104  e3cb939b078343fc9094f17f0e0f55d88a73dfa3  ...   \n",
      "105  e3cb939b078343fc9094f17f0e0f55d88a73dfa3  ...   \n",
      "106  e3cb939b078343fc9094f17f0e0f55d88a73dfa3  ...   \n",
      "107  e3cb939b078343fc9094f17f0e0f55d88a73dfa3  ...   \n",
      "108  e3cb939b078343fc9094f17f0e0f55d88a73dfa3  ...   \n",
      "\n",
      "    original_glszm_SmallAreaHighGrayLevelEmphasis  \\\n",
      "0                              0.5112962962992399   \n",
      "1                           1.952334060663674e-09   \n",
      "2                           5.486395419774189e-05   \n",
      "3                           4.822530864197531e-09   \n",
      "4                           3.133363093953332e-10   \n",
      "..                                            ...   \n",
      "104                        1.4908439816864725e-08   \n",
      "105                        1.1789102389533162e-06   \n",
      "106                            0.5000000934584855   \n",
      "107                         2.261292328565775e-06   \n",
      "108                            0.6666666735064677   \n",
      "\n",
      "    original_glszm_SmallAreaLowGrayLevelEmphasis original_glszm_ZoneEntropy  \\\n",
      "0                             0.5112962962992399         1.7924812503605767   \n",
      "1                          1.952334060663674e-09     -3.203426503814917e-16   \n",
      "2                          5.486395419774189e-05         0.9999999999999993   \n",
      "3                          4.822530864197531e-09     -3.203426503814917e-16   \n",
      "4                          3.133363093953332e-10     -3.203426503814917e-16   \n",
      "..                                           ...                        ...   \n",
      "104                       1.4908439816864725e-08     -3.203426503814917e-16   \n",
      "105                       1.1789102389533162e-06     -3.203426503814917e-16   \n",
      "106                           0.5000000934584855         0.9999999999999993   \n",
      "107                        2.261292328565775e-06     -3.203426503814917e-16   \n",
      "108                           0.6666666735064677         0.9182958340544889   \n",
      "\n",
      "     original_glszm_ZonePercentage  original_glszm_ZoneVariance  \\\n",
      "0           2.5213685988754696e-05            7863864140.333333   \n",
      "1           4.4185224460940264e-05                          0.0   \n",
      "2             0.001998001998001998                    163620.25   \n",
      "3            6.944444444444444e-05                          0.0   \n",
      "4            1.770130812667056e-05                          0.0   \n",
      "..                             ...                          ...   \n",
      "104          0.0001221001221001221                          0.0   \n",
      "105          0.0010857763300760044                          0.0   \n",
      "106           0.000864304235090752                    1336336.0   \n",
      "107          0.0015037593984962407                          0.0   \n",
      "108         0.00042961477874838895           10826755.555555556   \n",
      "\n",
      "     original_ngtdm_Busyness original_ngtdm_Coarseness  \\\n",
      "0                        0.0                 1000000.0   \n",
      "1                        0.0                 1000000.0   \n",
      "2                        0.0                 1000000.0   \n",
      "3                        0.0                 1000000.0   \n",
      "4                        0.0                 1000000.0   \n",
      "..                       ...                       ...   \n",
      "104                      0.0                 1000000.0   \n",
      "105                      0.0                 1000000.0   \n",
      "106                      0.0                 1000000.0   \n",
      "107                      0.0                 1000000.0   \n",
      "108                      0.0                 1000000.0   \n",
      "\n",
      "    original_ngtdm_Complexity original_ngtdm_Contrast original_ngtdm_Strength  \n",
      "0                         0.0                     0.0                     0.0  \n",
      "1                         0.0                     0.0                     0.0  \n",
      "2                         0.0                     0.0                     0.0  \n",
      "3                         0.0                     0.0                     0.0  \n",
      "4                         0.0                     0.0                     0.0  \n",
      "..                        ...                     ...                     ...  \n",
      "104                       0.0                     0.0                     0.0  \n",
      "105                       0.0                     0.0                     0.0  \n",
      "106                       0.0                     0.0                     0.0  \n",
      "107                       0.0                     0.0                     0.0  \n",
      "108                       0.0                     0.0                     0.0  \n",
      "\n",
      "[109 rows x 131 columns]\n"
     ]
    }
   ],
   "source": [
    "# Create a list to store the feature results\n",
    "results = []\n",
    "# Desactivar las advertencias de tipo UserWarning temporalmente (Me desespere)\n",
    "with warnings.catch_warnings():\n",
    "    warnings.simplefilter(\"ignore\")\n",
    "    # Iterate over rows in the DataFrame\n",
    "    for i, row in df.iterrows():\n",
    "        # Check if it's not the first row and the NVoxels value is greater than 1\n",
    "        if i > 0 and row['NVoxels'] > 1:\n",
    "            # Extract ColorId, StructName, and Color from the current row\n",
    "            colorId, name, color = row[['Id', 'StructName', 'Color Array']]\n",
    "            \n",
    "            # Create a boolean mask for img_data values that match the ColorId value\n",
    "            mask = (img_data == colorId)\n",
    "            \n",
    "            # Print progress approximately every 5%\n",
    "            if i / len(df) * 100 % 5 < 1:  # Check if the remainder of division is approximately 0\n",
    "                print(f\"Progress: {i / len(df) * 100:.0f}%\")\n",
    "            \n",
    "            # Apply the logical mask\n",
    "            masked_img_data = np.where(mask, colorId, 0)\n",
    "            masked_img = image.new_img_like(aseg, masked_img_data.astype(np.int32))\n",
    "\n",
    "            # Convert Nilearn images to SimpleITK\n",
    "            segmentation_sitk = sitk.GetImageFromArray(np.array(masked_img.dataobj, dtype=np.int32))\n",
    "            \n",
    "            # Extract features\n",
    "            features = extractor.execute(brain_sitk,segmentation_sitk,  colorId)\n",
    "\n",
    "            # Add the feature results to the DataFrame\n",
    "            results.append({'ColorId': colorId, 'StructName': name, **{feature_name: features[feature_name] for feature_name in features.keys()}})\n",
    "\n",
    "# Convert the list of results to a DataFrame\n",
    "results_df = pd.DataFrame(results)\n",
    "\n",
    "# Print the DataFrame with the results\n",
    "print(results_df)    "
   ]
  },
  {
   "cell_type": "code",
   "execution_count": 9,
   "metadata": {},
   "outputs": [
    {
     "name": "stdout",
     "output_type": "stream",
     "text": [
      "ColorId                                                  4\n",
      "StructName                          Left-Lateral-Ventricle\n",
      "diagnostics_Versions_PyRadiomics                    v3.0.1\n",
      "diagnostics_Versions_Numpy                          1.26.4\n",
      "diagnostics_Versions_SimpleITK                       2.3.1\n",
      "                                             ...          \n",
      "original_ngtdm_Busyness                                0.0\n",
      "original_ngtdm_Coarseness                        1000000.0\n",
      "original_ngtdm_Complexity                              0.0\n",
      "original_ngtdm_Contrast                                0.0\n",
      "original_ngtdm_Strength                                0.0\n",
      "Name: 1, Length: 131, dtype: object\n"
     ]
    }
   ],
   "source": [
    "print(results_df.iloc[1])"
   ]
  }
 ],
 "metadata": {
  "kernelspec": {
   "display_name": "Python 3",
   "language": "python",
   "name": "python3"
  },
  "language_info": {
   "codemirror_mode": {
    "name": "ipython",
    "version": 3
   },
   "file_extension": ".py",
   "mimetype": "text/x-python",
   "name": "python",
   "nbconvert_exporter": "python",
   "pygments_lexer": "ipython3",
   "version": "3.10.12"
  }
 },
 "nbformat": 4,
 "nbformat_minor": 2
}
